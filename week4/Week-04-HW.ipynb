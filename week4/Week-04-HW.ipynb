{
 "cells": [
  {
   "cell_type": "markdown",
   "metadata": {},
   "source": [
    "# List Overlap \n",
    "Write a program that returns a list that contains only the elements that are common between the lists (without duplicates). Make sure your program works on two lists of different sizes."
   ]
  },
  {
   "cell_type": "code",
   "execution_count": null,
   "metadata": {},
   "outputs": [],
   "source": [
    "a = [1, 1, 2, 3, 5, 8, 13, 21, 34, 55, 89]\n",
    "b = [1, 2, 3, 4, 5, 6, 7, 8, 9, 10, 11, 12, 13]\n",
    "\n",
    "def get_intersection(list_1, list_2):\n",
    "    result = []\n",
    "    \n",
    "    # Find which list is larger, and which is smaller.\n",
    "    largest_list = list_1 if len(list_1) > len(list_2) else list_2\n",
    "    smallest_list = list_2 if len(list_1) > len(list_2) else list_1\n",
    "    \n",
    "    # Only add the index from the larger list if its in the smaller\n",
    "    # list and not already in the resulting list.\n",
    "    for index in largest_list:\n",
    "        if (index in smallest_list) and (index not in result):\n",
    "            result.append(index)\n",
    "            \n",
    "    return result\n",
    "\n",
    "\n",
    "print(get_intersection(a, b))"
   ]
  },
  {
   "cell_type": "markdown",
   "metadata": {},
   "source": [
    "# Rock Paper Scissors\n",
    "\n",
    "Make a two-player Rock-Paper-Scissors game. (Hint: Ask for player plays (using input), compare them, print out a message of congratulations to the winner.)\n",
    "\n",
    "Remember the rules:\n",
    "\n",
    "* Rock beats scissors\n",
    "* Scissors beats paper\n",
    "* Paper beats rock"
   ]
  },
  {
   "cell_type": "code",
   "execution_count": null,
   "metadata": {},
   "outputs": [],
   "source": [
    "def rock_paper_scissors(player1_choice, player2_choice):\n",
    "    \n",
    "    player1_choice = player1_choice.lower()\n",
    "    player2_choice = player2_choice.lower()\n",
    "    \n",
    "    # key (move) maps to an array of outcomes.\n",
    "    # 0th index means the key wins, 1st index \n",
    "    # means the key loses, and the 2nd index means a tie.\n",
    "    result_map = {\n",
    "        \"rock\" : [\"scissors\", \"paper\", \"rock\"],\n",
    "        \"paper\" : [\"rock\", \"scissors\", \"paper\"],\n",
    "        \"scissors\" : [\"paper\", \"rock\", \"scissors\"]\n",
    "    }\n",
    "    \n",
    "    # If the index of the list associated with the value of player1_choice\n",
    "    # is 0 than player1's choice wins. If it's 1 then player1's choice\n",
    "    # loses, and if it's 2 then it's a tie.\n",
    "    if result_map[player1_choice].index(player2_choice) == 0:\n",
    "        return player1_choice + \" wins!\"\n",
    "    elif result_map[player1_choice].index(player2_choice) == 1:\n",
    "        return player2_choice + \" wins!\"\n",
    "    else:\n",
    "        return \"Tie!\"\n",
    "\n",
    "\n",
    "def play_game():\n",
    "    player1 = str(input(\"*** Rock-Paper-Scissors ***\\nPlayer 1 enter your move: \"))\n",
    "    player2 = str(input(\"Player 2 enter your move: \"))\n",
    "\n",
    "    while rock_paper_scissors(player1, player2) == \"Tie!\":\n",
    "        print(\"Tie!\\nTry again.\")\n",
    "        player1 = str(input(\"Player 1 enter your move: \"))\n",
    "        player2 = str(input(\"Player 2 enter your move: \"))\n",
    "        \n",
    "    print(rock_paper_scissors(player1, player2))\n",
    "    \n",
    "play_game()"
   ]
  },
  {
   "cell_type": "markdown",
   "metadata": {},
   "source": [
    "# Palindrome \n",
    "\n",
    "Ask the user for a string and print out whether this string is a palindrome or not. (A palindrome is a string that reads the same forwards and backwards.)"
   ]
  },
  {
   "cell_type": "code",
   "execution_count": null,
   "metadata": {},
   "outputs": [],
   "source": [
    "# anna, tacocat\n",
    "\n",
    "def check_palindrome(word):\n",
    "    \n",
    "    word = word.lower()\n",
    "    word_length = len(word)\n",
    "    \n",
    "    # Check if the 1st character and the nth\n",
    "    # character dont match and on each iteration\n",
    "    # check the 1st char +1 and the nth char -1. \n",
    "    for char in range(word_length // 2):\n",
    "        if word[char] != word[-(char + 1)]:\n",
    "            return False\n",
    "    \n",
    "    return True\n",
    "\n",
    "user_input = str(input(\"Enter a word to check if it's a palindrome: \"))\n",
    "print(user_input, \"is a palindrome.\") if check_palindrome(user_input) else print(user_input, \"is not a palindrome.\")"
   ]
  },
  {
   "cell_type": "markdown",
   "metadata": {},
   "source": [
    "# Password Generator\n",
    "Write a password generator in Python. Be creative with how you generate passwords - strong passwords have a mix of lowercase letters, uppercase letters, numbers, and symbols. The passwords should be random.  Ask the user to input how long they want their password to be. "
   ]
  },
  {
   "cell_type": "code",
   "execution_count": 27,
   "metadata": {},
   "outputs": [
    {
     "name": "stdout",
     "output_type": "stream",
     "text": [
      "How many characters do you want your password to have? 12\n",
      "E#0W2qpSr1Bi\n"
     ]
    }
   ],
   "source": [
    "from random import randint, shuffle\n",
    "\n",
    "def create_password(length):\n",
    "    \n",
    "    chars = \"abcdefghijklmnopqrstuvwxyz01234567890ABCDEFGHIJKLMNOPQRSTUVWXYZ!@#$%^&*()?\"\n",
    "    alpha_lower = \"abcdefghijklmnopqrstuvwxyz\"\n",
    "    alpha_upper = \"ABCDEFGHIJKLMNOPQRSTUVWXYZ\"\n",
    "    special_chars = \"!@#$%^&*()?\"\n",
    "    digits = \"0123456789\"\n",
    "    \n",
    "    pw_chars = []\n",
    "    password = \"\"\n",
    "    \n",
    "    if length > 3:\n",
    "        \n",
    "        # Add a lower case char\n",
    "        pw_chars.append(alpha_lower[randint(0, (len(alpha_lower) - 1))])\n",
    "        \n",
    "        # Add an upper case char\n",
    "        pw_chars.append(alpha_upper[randint(0, (len(alpha_upper) - 1))])\n",
    "    \n",
    "        # Add a digit\n",
    "        pw_chars.append(digits[randint(0, (len(digits) - 1))])\n",
    "    \n",
    "        # Add a special char\n",
    "        pw_chars.append(special_chars[randint(0, (len(special_chars) - 1))])\n",
    "        \n",
    "        # Fill the rest of the password with random characters.\n",
    "        for pw_index in range(length - 4):\n",
    "            pw_chars.append(chars[randint(0,(len(chars) - 1))])       \n",
    "    else:\n",
    "        for pw_index in range(length):\n",
    "            pw_chars.append(chars[randint(0,(len(chars) - 1))])\n",
    "    \n",
    "    shuffle(pw_chars)\n",
    "    \n",
    "    for char in pw_chars:\n",
    "        password += char\n",
    "    \n",
    "    return password\n",
    "    \n",
    "    \n",
    "password_length = int(input(\"How many characters do you want your password to have? \"))\n",
    "print(create_password(password_length))\n",
    "\n"
   ]
  },
  {
   "cell_type": "markdown",
   "metadata": {},
   "source": [
    "# Divisors Solutions\n",
    "\n",
    "Create a program that asks the user for a number and then prints out a list of all the divisors of that number. (If you don’t know what a divisor is, it is a number that divides evenly into another number. For example, 13 is a divisor of 26 because 26 / 13 has no remainder.)"
   ]
  },
  {
   "cell_type": "code",
   "execution_count": 30,
   "metadata": {},
   "outputs": [
    {
     "name": "stdout",
     "output_type": "stream",
     "text": [
      "Enter a number: 26\n",
      "The divisors of 26 are: [1, 2, 13, 26]\n"
     ]
    }
   ],
   "source": [
    "def find_divisors(number):\n",
    "    divisors = []\n",
    "    \n",
    "    for num in range(1, number + 1, 1):\n",
    "        if number % num == 0:\n",
    "            divisors.append(num)\n",
    "    \n",
    "    return divisors\n",
    "\n",
    "\n",
    "divisor = int(input(\"Enter a number: \"))\n",
    "print(f\"The divisors of {divisor} are: {find_divisors(divisor)}\")"
   ]
  },
  {
   "cell_type": "markdown",
   "metadata": {},
   "source": [
    "# Missing Character\n",
    "Given a non-empty string and an int n, return a new string where the char at index n has been removed. The value of n will be a valid index of a char in the original string (i.e. n will be in the range 0..len(str)-1 inclusive).\n",
    "\n",
    "```\n",
    "missing_char('kitten', 1) → 'ktten'\n",
    "missing_char('kitten', 0) → 'itten'\n",
    "missing_char('kitten', 4) → 'kittn'\n",
    "\n",
    "```"
   ]
  },
  {
   "cell_type": "code",
   "execution_count": 36,
   "metadata": {},
   "outputs": [
    {
     "name": "stdout",
     "output_type": "stream",
     "text": [
      "kittn\n"
     ]
    }
   ],
   "source": [
    "def missing_char(word, n):\n",
    "    \n",
    "    # Convert the word to a list of characters\n",
    "    # and pop the nth element.\n",
    "    word_list = [letter for letter in word]\n",
    "    word_list.pop(n)\n",
    "    result = \"\"\n",
    "    \n",
    "    # Turn the resulting list of characters \n",
    "    # back into a string.\n",
    "    for char in word_list:\n",
    "        result += char\n",
    "    \n",
    "    return result\n",
    "    \n",
    "print(missing_char(\"kitten\", 4))"
   ]
  },
  {
   "cell_type": "markdown",
   "metadata": {},
   "source": [
    "# Centered Average\n",
    "\n",
    "Return the \"centered\" average of an array of ints, which we'll say is the mean average of the values, except ignoring the largest and smallest values in the array. If there are multiple copies of the smallest value, ignore just one copy, and likewise for the largest value.  You may assume that the array is length 3 or more and will never contain negative values. \n",
    "* Round your answer to the nearest whole number.\n",
    "\n",
    "```\n",
    "centered_average([1, 2, 3, 4, 100]) → 3\n",
    "centered_average([1, 1, 5, 5, 10, 8, 7]) → 5\n",
    "```"
   ]
  },
  {
   "cell_type": "code",
   "execution_count": 40,
   "metadata": {},
   "outputs": [
    {
     "name": "stdout",
     "output_type": "stream",
     "text": [
      "centered_average([100, 100, 50, 75, 50, 25, 25, 25]) -> 54\n"
     ]
    }
   ],
   "source": [
    "example_list = [100, 100, 50, 75, 50, 25, 25, 25]\n",
    "\n",
    "def get_centered_average(num_list):\n",
    "    \n",
    "    # Find the minimum and maximum values\n",
    "    # then remove them.\n",
    "    max_num = max(num_list)\n",
    "    min_num = min(num_list)\n",
    "    \n",
    "    num_list.remove(max_num)\n",
    "    num_list.remove(min_num)\n",
    "    \n",
    "    average = sum(num_list) / len(num_list)\n",
    "    \n",
    "    return round(average)\n",
    "\n",
    "print(f\"centered_average({example_list}) -> {get_centered_average(example_list)}\")\n"
   ]
  }
 ],
 "metadata": {
  "kernelspec": {
   "display_name": "Python 3",
   "language": "python",
   "name": "python3"
  },
  "language_info": {
   "codemirror_mode": {
    "name": "ipython",
    "version": 3
   },
   "file_extension": ".py",
   "mimetype": "text/x-python",
   "name": "python",
   "nbconvert_exporter": "python",
   "pygments_lexer": "ipython3",
   "version": "3.8.3"
  }
 },
 "nbformat": 4,
 "nbformat_minor": 4
}
